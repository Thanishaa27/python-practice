{
 "cells": [
  {
   "cell_type": "code",
   "execution_count": 15,
   "id": "c7704aea-0de2-4eb7-8eb4-4f1c657395aa",
   "metadata": {},
   "outputs": [
    {
     "name": "stdin",
     "output_type": "stream",
     "text": [
      " wow\n"
     ]
    },
    {
     "name": "stdout",
     "output_type": "stream",
     "text": [
      "w\n",
      "ow\n",
      "wow\n",
      "Reserved Text: wow\n",
      "yes,the given string is palindrome\n"
     ]
    }
   ],
   "source": [
    "text=str(input())\n",
    "rev_text=\"\"\n",
    "for j in text:\n",
    "    rev_text=j+rev_text\n",
    "    print(rev_text)\n",
    "   \n",
    "print(\"Reserved Text:\",rev_text)\n",
    "\n",
    "if text==rev_text:\n",
    "    print(\"yes,the given string is palindrome\")\n",
    "else:\n",
    "    print(\"no,the given string is not a palindrome\")"
   ]
  }
 ],
 "metadata": {
  "kernelspec": {
   "display_name": "Python 3 (ipykernel)",
   "language": "python",
   "name": "python3"
  },
  "language_info": {
   "codemirror_mode": {
    "name": "ipython",
    "version": 3
   },
   "file_extension": ".py",
   "mimetype": "text/x-python",
   "name": "python",
   "nbconvert_exporter": "python",
   "pygments_lexer": "ipython3",
   "version": "3.12.4"
  }
 },
 "nbformat": 4,
 "nbformat_minor": 5
}
